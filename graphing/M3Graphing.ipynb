{
 "cells": [
  {
   "cell_type": "markdown",
   "metadata": {},
   "source": [
    "# Advanced Matplotlib Graphing Assignment"
   ]
  },
  {
   "cell_type": "markdown",
   "metadata": {},
   "source": [
    "Dataset\n",
    "\n",
    "ConstructionTimeSeriesDatav2.csv"
   ]
  },
  {
   "cell_type": "markdown",
   "metadata": {},
   "source": [
    "### Pre-Processing"
   ]
  },
  {
   "cell_type": "code",
   "execution_count": 123,
   "metadata": {},
   "outputs": [],
   "source": [
    "import pandas as pd\n",
    "%matplotlib inline\n",
    "\n",
    "import matplotlib.pyplot as plt\n",
    "\n",
    "df_const = pd.read_csv('ConstructionTimeSeriesDatav2.csv')"
   ]
  },
  {
   "cell_type": "code",
   "execution_count": 3,
   "metadata": {},
   "outputs": [
    {
     "data": {
      "text/html": [
       "<div>\n",
       "<style scoped>\n",
       "    .dataframe tbody tr th:only-of-type {\n",
       "        vertical-align: middle;\n",
       "    }\n",
       "\n",
       "    .dataframe tbody tr th {\n",
       "        vertical-align: top;\n",
       "    }\n",
       "\n",
       "    .dataframe thead th {\n",
       "        text-align: right;\n",
       "    }\n",
       "</style>\n",
       "<table border=\"1\" class=\"dataframe\">\n",
       "  <thead>\n",
       "    <tr style=\"text-align: right;\">\n",
       "      <th></th>\n",
       "      <th>Month</th>\n",
       "      <th>Month-Year</th>\n",
       "      <th>Total Construction</th>\n",
       "      <th>Private Construction</th>\n",
       "      <th>Public Construction</th>\n",
       "    </tr>\n",
       "  </thead>\n",
       "  <tbody>\n",
       "    <tr>\n",
       "      <th>0</th>\n",
       "      <td>1</td>\n",
       "      <td>Jan-02</td>\n",
       "      <td>59516</td>\n",
       "      <td>45273</td>\n",
       "      <td>14243</td>\n",
       "    </tr>\n",
       "    <tr>\n",
       "      <th>1</th>\n",
       "      <td>2</td>\n",
       "      <td>Feb-02</td>\n",
       "      <td>58588</td>\n",
       "      <td>44475</td>\n",
       "      <td>14113</td>\n",
       "    </tr>\n",
       "    <tr>\n",
       "      <th>2</th>\n",
       "      <td>3</td>\n",
       "      <td>Mar-02</td>\n",
       "      <td>63782</td>\n",
       "      <td>49396</td>\n",
       "      <td>14386</td>\n",
       "    </tr>\n",
       "    <tr>\n",
       "      <th>3</th>\n",
       "      <td>4</td>\n",
       "      <td>Apr-02</td>\n",
       "      <td>69504</td>\n",
       "      <td>53283</td>\n",
       "      <td>16221</td>\n",
       "    </tr>\n",
       "    <tr>\n",
       "      <th>4</th>\n",
       "      <td>5</td>\n",
       "      <td>May-02</td>\n",
       "      <td>73384</td>\n",
       "      <td>55009</td>\n",
       "      <td>18375</td>\n",
       "    </tr>\n",
       "  </tbody>\n",
       "</table>\n",
       "</div>"
      ],
      "text/plain": [
       "   Month Month-Year  Total Construction  Private Construction  \\\n",
       "0      1     Jan-02               59516                 45273   \n",
       "1      2     Feb-02               58588                 44475   \n",
       "2      3     Mar-02               63782                 49396   \n",
       "3      4     Apr-02               69504                 53283   \n",
       "4      5     May-02               73384                 55009   \n",
       "\n",
       "   Public Construction  \n",
       "0                14243  \n",
       "1                14113  \n",
       "2                14386  \n",
       "3                16221  \n",
       "4                18375  "
      ]
     },
     "execution_count": 3,
     "metadata": {},
     "output_type": "execute_result"
    }
   ],
   "source": [
    "df_const.head()"
   ]
  },
  {
   "cell_type": "code",
   "execution_count": 4,
   "metadata": {},
   "outputs": [
    {
     "data": {
      "text/plain": [
       "(146, 5)"
      ]
     },
     "execution_count": 4,
     "metadata": {},
     "output_type": "execute_result"
    }
   ],
   "source": [
    "df_const.shape"
   ]
  },
  {
   "cell_type": "code",
   "execution_count": 5,
   "metadata": {},
   "outputs": [
    {
     "data": {
      "text/html": [
       "<div>\n",
       "<style scoped>\n",
       "    .dataframe tbody tr th:only-of-type {\n",
       "        vertical-align: middle;\n",
       "    }\n",
       "\n",
       "    .dataframe tbody tr th {\n",
       "        vertical-align: top;\n",
       "    }\n",
       "\n",
       "    .dataframe thead th {\n",
       "        text-align: right;\n",
       "    }\n",
       "</style>\n",
       "<table border=\"1\" class=\"dataframe\">\n",
       "  <thead>\n",
       "    <tr style=\"text-align: right;\">\n",
       "      <th></th>\n",
       "      <th>Month</th>\n",
       "      <th>Month-Year</th>\n",
       "      <th>Total Construction</th>\n",
       "      <th>Private Construction</th>\n",
       "      <th>Public Construction</th>\n",
       "    </tr>\n",
       "  </thead>\n",
       "  <tbody>\n",
       "    <tr>\n",
       "      <th>0</th>\n",
       "      <td>1</td>\n",
       "      <td>Jan-02</td>\n",
       "      <td>59516</td>\n",
       "      <td>45273</td>\n",
       "      <td>14243</td>\n",
       "    </tr>\n",
       "    <tr>\n",
       "      <th>1</th>\n",
       "      <td>2</td>\n",
       "      <td>Feb-02</td>\n",
       "      <td>58588</td>\n",
       "      <td>44475</td>\n",
       "      <td>14113</td>\n",
       "    </tr>\n",
       "    <tr>\n",
       "      <th>2</th>\n",
       "      <td>3</td>\n",
       "      <td>Mar-02</td>\n",
       "      <td>63782</td>\n",
       "      <td>49396</td>\n",
       "      <td>14386</td>\n",
       "    </tr>\n",
       "    <tr>\n",
       "      <th>3</th>\n",
       "      <td>4</td>\n",
       "      <td>Apr-02</td>\n",
       "      <td>69504</td>\n",
       "      <td>53283</td>\n",
       "      <td>16221</td>\n",
       "    </tr>\n",
       "    <tr>\n",
       "      <th>4</th>\n",
       "      <td>5</td>\n",
       "      <td>May-02</td>\n",
       "      <td>73384</td>\n",
       "      <td>55009</td>\n",
       "      <td>18375</td>\n",
       "    </tr>\n",
       "    <tr>\n",
       "      <th>...</th>\n",
       "      <td>...</td>\n",
       "      <td>...</td>\n",
       "      <td>...</td>\n",
       "      <td>...</td>\n",
       "      <td>...</td>\n",
       "    </tr>\n",
       "    <tr>\n",
       "      <th>141</th>\n",
       "      <td>142</td>\n",
       "      <td>Oct-13</td>\n",
       "      <td>85193</td>\n",
       "      <td>59370</td>\n",
       "      <td>25823</td>\n",
       "    </tr>\n",
       "    <tr>\n",
       "      <th>142</th>\n",
       "      <td>143</td>\n",
       "      <td>Nov-13</td>\n",
       "      <td>77931</td>\n",
       "      <td>55191</td>\n",
       "      <td>22741</td>\n",
       "    </tr>\n",
       "    <tr>\n",
       "      <th>143</th>\n",
       "      <td>144</td>\n",
       "      <td>Dec-13</td>\n",
       "      <td>71502</td>\n",
       "      <td>52132</td>\n",
       "      <td>19369</td>\n",
       "    </tr>\n",
       "    <tr>\n",
       "      <th>144</th>\n",
       "      <td>145</td>\n",
       "      <td>Jan-14</td>\n",
       "      <td>64661</td>\n",
       "      <td>47827</td>\n",
       "      <td>16834</td>\n",
       "    </tr>\n",
       "    <tr>\n",
       "      <th>145</th>\n",
       "      <td>146</td>\n",
       "      <td>Feb-14</td>\n",
       "      <td>63368</td>\n",
       "      <td>46647</td>\n",
       "      <td>16721</td>\n",
       "    </tr>\n",
       "  </tbody>\n",
       "</table>\n",
       "<p>146 rows × 5 columns</p>\n",
       "</div>"
      ],
      "text/plain": [
       "     Month Month-Year  Total Construction  Private Construction  \\\n",
       "0        1     Jan-02               59516                 45273   \n",
       "1        2     Feb-02               58588                 44475   \n",
       "2        3     Mar-02               63782                 49396   \n",
       "3        4     Apr-02               69504                 53283   \n",
       "4        5     May-02               73384                 55009   \n",
       "..     ...        ...                 ...                   ...   \n",
       "141    142     Oct-13               85193                 59370   \n",
       "142    143     Nov-13               77931                 55191   \n",
       "143    144     Dec-13               71502                 52132   \n",
       "144    145     Jan-14               64661                 47827   \n",
       "145    146     Feb-14               63368                 46647   \n",
       "\n",
       "     Public Construction  \n",
       "0                  14243  \n",
       "1                  14113  \n",
       "2                  14386  \n",
       "3                  16221  \n",
       "4                  18375  \n",
       "..                   ...  \n",
       "141                25823  \n",
       "142                22741  \n",
       "143                19369  \n",
       "144                16834  \n",
       "145                16721  \n",
       "\n",
       "[146 rows x 5 columns]"
      ]
     },
     "execution_count": 5,
     "metadata": {},
     "output_type": "execute_result"
    }
   ],
   "source": [
    "df_const"
   ]
  },
  {
   "cell_type": "code",
   "execution_count": 7,
   "metadata": {},
   "outputs": [],
   "source": [
    "df_const['Difference'] = df_const['Private Construction']-df_const['Public Construction']"
   ]
  },
  {
   "cell_type": "code",
   "execution_count": 10,
   "metadata": {},
   "outputs": [
    {
     "data": {
      "text/plain": [
       "count      146.000000\n",
       "mean     35273.643836\n",
       "std      13124.108811\n",
       "min      11192.000000\n",
       "25%      23957.000000\n",
       "50%      35614.000000\n",
       "75%      46024.250000\n",
       "max      59301.000000\n",
       "Name: Difference, dtype: float64"
      ]
     },
     "execution_count": 10,
     "metadata": {},
     "output_type": "execute_result"
    }
   ],
   "source": [
    "df_const['Difference'].describe()"
   ]
  },
  {
   "cell_type": "code",
   "execution_count": 11,
   "metadata": {
    "scrolled": true
   },
   "outputs": [
    {
     "data": {
      "text/plain": [
       "Month                    int64\n",
       "Month-Year              object\n",
       "Total Construction       int64\n",
       "Private Construction     int64\n",
       "Public Construction      int64\n",
       "Difference               int64\n",
       "dtype: object"
      ]
     },
     "execution_count": 11,
     "metadata": {},
     "output_type": "execute_result"
    }
   ],
   "source": [
    "df_const.dtypes"
   ]
  },
  {
   "cell_type": "code",
   "execution_count": 22,
   "metadata": {
    "scrolled": true
   },
   "outputs": [
    {
     "name": "stderr",
     "output_type": "stream",
     "text": [
      "<ipython-input-22-7e431db3b59a>:2: SettingWithCopyWarning: \n",
      "A value is trying to be set on a copy of a slice from a DataFrame\n",
      "\n",
      "See the caveats in the documentation: https://pandas.pydata.org/pandas-docs/stable/user_guide/indexing.html#returning-a-view-versus-a-copy\n",
      "  df_const['Month-Year'][i] = df_const['Month-Year'][i].replace(' ','')\n"
     ]
    }
   ],
   "source": [
    "for i in range(len(df_const['Month-Year'])):\n",
    "    df_const['Month-Year'][i] = df_const['Month-Year'][i].replace('-','')"
   ]
  },
  {
   "cell_type": "code",
   "execution_count": 74,
   "metadata": {},
   "outputs": [],
   "source": [
    "df_const['Date DT'] = pd.to_datetime(df_const['Month-Year'], format='%b%y')"
   ]
  },
  {
   "cell_type": "code",
   "execution_count": 112,
   "metadata": {},
   "outputs": [
    {
     "data": {
      "text/html": [
       "<div>\n",
       "<style scoped>\n",
       "    .dataframe tbody tr th:only-of-type {\n",
       "        vertical-align: middle;\n",
       "    }\n",
       "\n",
       "    .dataframe tbody tr th {\n",
       "        vertical-align: top;\n",
       "    }\n",
       "\n",
       "    .dataframe thead th {\n",
       "        text-align: right;\n",
       "    }\n",
       "</style>\n",
       "<table border=\"1\" class=\"dataframe\">\n",
       "  <thead>\n",
       "    <tr style=\"text-align: right;\">\n",
       "      <th></th>\n",
       "      <th>Month</th>\n",
       "      <th>Month-Year</th>\n",
       "      <th>Total Construction</th>\n",
       "      <th>Private Construction</th>\n",
       "      <th>Public Construction</th>\n",
       "      <th>Difference</th>\n",
       "      <th>Date DT</th>\n",
       "    </tr>\n",
       "  </thead>\n",
       "  <tbody>\n",
       "    <tr>\n",
       "      <th>0</th>\n",
       "      <td>1</td>\n",
       "      <td>Jan02</td>\n",
       "      <td>59516</td>\n",
       "      <td>45273</td>\n",
       "      <td>14243</td>\n",
       "      <td>31030</td>\n",
       "      <td>2002-01-01</td>\n",
       "    </tr>\n",
       "    <tr>\n",
       "      <th>1</th>\n",
       "      <td>2</td>\n",
       "      <td>Feb02</td>\n",
       "      <td>58588</td>\n",
       "      <td>44475</td>\n",
       "      <td>14113</td>\n",
       "      <td>30362</td>\n",
       "      <td>2002-02-01</td>\n",
       "    </tr>\n",
       "    <tr>\n",
       "      <th>2</th>\n",
       "      <td>3</td>\n",
       "      <td>Mar02</td>\n",
       "      <td>63782</td>\n",
       "      <td>49396</td>\n",
       "      <td>14386</td>\n",
       "      <td>35010</td>\n",
       "      <td>2002-03-01</td>\n",
       "    </tr>\n",
       "    <tr>\n",
       "      <th>3</th>\n",
       "      <td>4</td>\n",
       "      <td>Apr02</td>\n",
       "      <td>69504</td>\n",
       "      <td>53283</td>\n",
       "      <td>16221</td>\n",
       "      <td>37062</td>\n",
       "      <td>2002-04-01</td>\n",
       "    </tr>\n",
       "    <tr>\n",
       "      <th>4</th>\n",
       "      <td>5</td>\n",
       "      <td>May02</td>\n",
       "      <td>73384</td>\n",
       "      <td>55009</td>\n",
       "      <td>18375</td>\n",
       "      <td>36634</td>\n",
       "      <td>2002-05-01</td>\n",
       "    </tr>\n",
       "  </tbody>\n",
       "</table>\n",
       "</div>"
      ],
      "text/plain": [
       "   Month Month-Year  Total Construction  Private Construction  \\\n",
       "0      1      Jan02               59516                 45273   \n",
       "1      2      Feb02               58588                 44475   \n",
       "2      3      Mar02               63782                 49396   \n",
       "3      4      Apr02               69504                 53283   \n",
       "4      5      May02               73384                 55009   \n",
       "\n",
       "   Public Construction  Difference    Date DT  \n",
       "0                14243       31030 2002-01-01  \n",
       "1                14113       30362 2002-02-01  \n",
       "2                14386       35010 2002-03-01  \n",
       "3                16221       37062 2002-04-01  \n",
       "4                18375       36634 2002-05-01  "
      ]
     },
     "execution_count": 112,
     "metadata": {},
     "output_type": "execute_result"
    }
   ],
   "source": [
    "df_const.head()"
   ]
  },
  {
   "cell_type": "markdown",
   "metadata": {},
   "source": [
    "## Create the Graph"
   ]
  },
  {
   "cell_type": "code",
   "execution_count": 85,
   "metadata": {},
   "outputs": [],
   "source": [
    "date = df_const['Date DT'] \n",
    "diff = df_const['Difference'] "
   ]
  },
  {
   "cell_type": "code",
   "execution_count": 122,
   "metadata": {},
   "outputs": [
    {
     "data": {
      "image/png": "[encoded data removed]",
      "text/plain": [
       "<Figure size 432x288 with 1 Axes>"
      ]
     },
     "metadata": {
      "needs_background": "light"
     },
     "output_type": "display_data"
    }
   ],
   "source": [
    "fig,ax = plt.subplots()\n",
    "\n",
    "fig.suptitle('How Much More Was Spent on Private than Public Construction',fontsize=14)\n",
    "\n",
    "ax.plot(date,diff,color='k')\n",
    "ax.xaxis.set_label_text('Date',fontsize=13)  # x-axis caption\n",
    "ax.yaxis.set_label_text('Difference (Private-Public)',fontsize=13) # y-axis caption\n",
    "\n",
    "# Vertical Lines\n",
    "ax.axvline(pd.to_datetime('2005-01-01'),linewidth=1,color='k',label='Low',linestyle='-')\n",
    "ax.axvline(pd.to_datetime('2007-01-01'),linewidth=1,color='k',label='High',linestyle='-')\n",
    "\n",
    "ax.spines['right'].set_visible(False)\n",
    "ax.spines['top'].set_visible(False)\n",
    "\n",
    "# Axis limits\n",
    "ax.set_ylim(0,max(diff)+10000)\n",
    "\n",
    "# Y tick labels\n",
    "ax.set_yticklabels([\"${:,.0f}\".format(x) for x in ax.get_yticks()])\n",
    "\n",
    "# Text\n",
    "ax.text(pd.to_datetime('2006-01-01'),30000,'Max',fontsize=12,verticalalignment='center',\\\n",
    "        horizontalalignment='center',fontname='Times New Roman')\n",
    "ax.text(pd.to_datetime('2006-01-01'),25000,'Difference',fontsize=12,verticalalignment='center',\\\n",
    "        horizontalalignment='center',fontname='Times New Roman')\n",
    "\n",
    "plt.show()"
   ]
  },
  {
   "cell_type": "markdown",
   "metadata": {},
   "source": [
    "The chart above shows the difference between the spend on private versus public construction. The highlighted portion emphasizes the time period of 2005 - 2007 in which private spend was the highest relative to the public construction spend. Of course, this would be tailored to an audience in which the salient aspect is the comparison of spend for private relative to public. If the concern is how much public spend relative to private, then perhaps the period to highlight would be 2010 - 2012."
   ]
  }
 ],
 "metadata": {
  "kernelspec": {
   "display_name": "Python 3",
   "language": "python",
   "name": "python3"
  },
  "language_info": {
   "codemirror_mode": {
    "name": "ipython",
    "version": 3
   },
   "file_extension": ".py",
   "mimetype": "text/x-python",
   "name": "python",
   "nbconvert_exporter": "python",
   "pygments_lexer": "ipython3",
   "version": "3.8.3"
  }
 },
 "nbformat": 4,
 "nbformat_minor": 4
}
